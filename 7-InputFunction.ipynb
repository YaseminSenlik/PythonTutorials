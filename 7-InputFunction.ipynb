{
 "cells": [
  {
   "cell_type": "code",
   "execution_count": 1,
   "metadata": {},
   "outputs": [
    {
     "name": "stdout",
     "output_type": "stream",
     "text": [
      "Please enter a value: Yasemin\n"
     ]
    }
   ],
   "source": [
    "#Default input type is string\n",
    "in1=input(\"Please enter a value: \")"
   ]
  },
  {
   "cell_type": "code",
   "execution_count": 2,
   "metadata": {},
   "outputs": [
    {
     "name": "stdout",
     "output_type": "stream",
     "text": [
      "Yasemin\n"
     ]
    }
   ],
   "source": [
    "print(in1)"
   ]
  },
  {
   "cell_type": "code",
   "execution_count": 6,
   "metadata": {},
   "outputs": [
    {
     "data": {
      "text/plain": [
       "str"
      ]
     },
     "execution_count": 6,
     "metadata": {},
     "output_type": "execute_result"
    }
   ],
   "source": [
    "type(in1)"
   ]
  },
  {
   "cell_type": "code",
   "execution_count": 4,
   "metadata": {},
   "outputs": [
    {
     "name": "stdout",
     "output_type": "stream",
     "text": [
      "Please enter first number: 12\n",
      "Please enter second number: 13\n",
      "Sum of in2 and in3 is  25\n"
     ]
    }
   ],
   "source": [
    "#We have to convert str type to number\n",
    "in2=int(input(\"Please enter first number: \"))\n",
    "in3=int(input(\"Please enter second number: \"))\n",
    "print(\"Sum of in2 and in3 is \", in2+in3)"
   ]
  },
  {
   "cell_type": "code",
   "execution_count": 5,
   "metadata": {},
   "outputs": [
    {
     "name": "stdout",
     "output_type": "stream",
     "text": [
      "Please enter first number: 18\n",
      "Please enter second number: 24\n",
      "Sum of in2 and in3 is  42\n"
     ]
    }
   ],
   "source": [
    "in2=input(\"Please enter first number: \")\n",
    "in3=input(\"Please enter second number: \")\n",
    "in2=int(in2)\n",
    "in3=int(in3)\n",
    "print(\"Sum of in2 and in3 is \", in2+in3)"
   ]
  },
  {
   "cell_type": "code",
   "execution_count": null,
   "metadata": {},
   "outputs": [],
   "source": []
  }
 ],
 "metadata": {
  "kernelspec": {
   "display_name": "Python 3",
   "language": "python",
   "name": "python3"
  },
  "language_info": {
   "codemirror_mode": {
    "name": "ipython",
    "version": 3
   },
   "file_extension": ".py",
   "mimetype": "text/x-python",
   "name": "python",
   "nbconvert_exporter": "python",
   "pygments_lexer": "ipython3",
   "version": "3.5.2"
  }
 },
 "nbformat": 4,
 "nbformat_minor": 2
}
