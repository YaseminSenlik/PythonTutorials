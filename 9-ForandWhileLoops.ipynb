{
 "cells": [
  {
   "cell_type": "code",
   "execution_count": 1,
   "metadata": {},
   "outputs": [
    {
     "data": {
      "text/plain": [
       "False"
      ]
     },
     "execution_count": 1,
     "metadata": {},
     "output_type": "execute_result"
    }
   ],
   "source": [
    "5 in [1,2,3,4]"
   ]
  },
  {
   "cell_type": "code",
   "execution_count": 2,
   "metadata": {},
   "outputs": [
    {
     "data": {
      "text/plain": [
       "True"
      ]
     },
     "execution_count": 2,
     "metadata": {},
     "output_type": "execute_result"
    }
   ],
   "source": [
    "'y' in 'yasemin'"
   ]
  },
  {
   "cell_type": "code",
   "execution_count": 16,
   "metadata": {},
   "outputs": [
    {
     "name": "stdout",
     "output_type": "stream",
     "text": [
      "yasemin\n"
     ]
    }
   ],
   "source": [
    "x = [\"yasemin\"]\n",
    "for a in x:\n",
    " print(a)"
   ]
  },
  {
   "cell_type": "code",
   "execution_count": 1,
   "metadata": {},
   "outputs": [
    {
     "data": {
      "text/plain": [
       "True"
      ]
     },
     "execution_count": 1,
     "metadata": {},
     "output_type": "execute_result"
    }
   ],
   "source": [
    "4 in(1,2,3,4)"
   ]
  },
  {
   "cell_type": "code",
   "execution_count": 6,
   "metadata": {},
   "outputs": [
    {
     "name": "stdout",
     "output_type": "stream",
     "text": [
      "1\n",
      "3\n",
      "6\n",
      "10\n",
      "15\n",
      "15\n"
     ]
    }
   ],
   "source": [
    "summation=0\n",
    "liste=[1,2,3,4,5]\n",
    "for x in liste:\n",
    "    summation=summation+x\n",
    "    print(\"{}\".format(summation))\n",
    "print(summation);\n"
   ]
  },
  {
   "cell_type": "code",
   "execution_count": 1,
   "metadata": {},
   "outputs": [
    {
     "name": "stdout",
     "output_type": "stream",
     "text": [
      "12 even number\n",
      "3 odd number\n",
      "57 odd number\n",
      "7 odd number\n",
      "8 even number\n",
      "12 even number\n",
      "0 even number\n"
     ]
    }
   ],
   "source": [
    "liste=[12,3,57,7,8,12,0]\n",
    "for x in liste:\n",
    "    if x%2==0:\n",
    "        print(\"{} even number\".format(x))\n",
    "    else: print(\"{} odd number\".format(x))\n",
    "        "
   ]
  },
  {
   "cell_type": "code",
   "execution_count": 12,
   "metadata": {},
   "outputs": [
    {
     "name": "stdout",
     "output_type": "stream",
     "text": [
      "Y\n",
      "a\n",
      "s\n",
      "e\n",
      "m\n",
      "i\n",
      "n\n"
     ]
    }
   ],
   "source": [
    "s=\"Yasemin\"\n",
    "for x in s:\n",
    "    print(\"{}\".format(x))"
   ]
  },
  {
   "cell_type": "code",
   "execution_count": 2,
   "metadata": {},
   "outputs": [
    {
     "name": "stdout",
     "output_type": "stream",
     "text": [
      "1. element ve first value 1,  second value 2, multiplication 2 \n",
      "2. element ve first value 3,  second value 4, multiplication 12 \n",
      "3. element ve first value 5,  second value 6, multiplication 30 \n",
      "4. element ve first value 7,  second value 8, multiplication 56 \n"
     ]
    }
   ],
   "source": [
    "liste=[(1,2), (3,4), (5,6), (7,8)]\n",
    "k=0\n",
    "for (x,y) in liste:\n",
    "    k=k+1\n",
    "    print(\"{}. element ve first value {},  second value {}, multiplication {} \".format(k,x,y,(x*y)))"
   ]
  },
  {
   "cell_type": "code",
   "execution_count": 34,
   "metadata": {},
   "outputs": [
    {
     "name": "stdout",
     "output_type": "stream",
     "text": [
      "3 Three\n",
      "1 One\n",
      "2 Two\n"
     ]
    }
   ],
   "source": [
    "dictionary={\"1\":\"One\", \"2\":\"Two\", \"3\":\"Three\"}\n",
    "for x,y in dictionary.items():\n",
    "    print(x,y)\n",
    "    "
   ]
  },
  {
   "cell_type": "code",
   "execution_count": 38,
   "metadata": {},
   "outputs": [
    {
     "name": "stdout",
     "output_type": "stream",
     "text": [
      "0\n",
      "1\n",
      "2\n",
      "3\n",
      "4\n",
      "5\n",
      "6\n",
      "7\n",
      "8\n",
      "9\n"
     ]
    }
   ],
   "source": [
    "i=0;\n",
    "while(i<10):\n",
    "    print(i)\n",
    "    i+=1"
   ]
  },
  {
   "cell_type": "code",
   "execution_count": 52,
   "metadata": {},
   "outputs": [
    {
     "name": "stdout",
     "output_type": "stream",
     "text": [
      "0. element of list1 is 1\n",
      "1. element of list1 is 2\n",
      "2. element of list1 is 3\n",
      "3. element of list1 is 4\n"
     ]
    }
   ],
   "source": [
    "i=0;\n",
    "list1=[1,2,3,4]\n",
    "while(i < len(list1)):\n",
    "    print(\"{}. element of list1 is {}\".format(i,list1[i]))\n",
    "    i+=1"
   ]
  }
 ],
 "metadata": {
  "kernelspec": {
   "display_name": "Python 3",
   "language": "python",
   "name": "python3"
  },
  "language_info": {
   "codemirror_mode": {
    "name": "ipython",
    "version": 3
   },
   "file_extension": ".py",
   "mimetype": "text/x-python",
   "name": "python",
   "nbconvert_exporter": "python",
   "pygments_lexer": "ipython3",
   "version": "3.5.2"
  }
 },
 "nbformat": 4,
 "nbformat_minor": 2
}
