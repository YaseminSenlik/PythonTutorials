{
 "cells": [
  {
   "cell_type": "code",
   "execution_count": 3,
   "metadata": {},
   "outputs": [
    {
     "name": "stdout",
     "output_type": "stream",
     "text": [
      "Enter your grade: 90\n",
      "AA\n"
     ]
    }
   ],
   "source": [
    "grade=float(input(\"Enter your grade: \"))\n",
    "if(grade>=90):\n",
    "    print(\"AA\")\n",
    "elif(grade>=85):\n",
    "    print(\"BA\")\n",
    "elif(grade>=75):\n",
    "    print(\"BB\")\n",
    "elif(grade>=65):\n",
    "    print(\"CB\")\n",
    "elif(grade>=55):\n",
    "    print(\"CC\")\n",
    "elif(grade>=45):\n",
    "    print(\"DC\")\n",
    "else:\n",
    "    print(\"Failed!\")"
   ]
  },
  {
   "cell_type": "code",
   "execution_count": null,
   "metadata": {},
   "outputs": [],
   "source": []
  }
 ],
 "metadata": {
  "kernelspec": {
   "display_name": "Python 3",
   "language": "python",
   "name": "python3"
  },
  "language_info": {
   "codemirror_mode": {
    "name": "ipython",
    "version": 3
   },
   "file_extension": ".py",
   "mimetype": "text/x-python",
   "name": "python",
   "nbconvert_exporter": "python",
   "pygments_lexer": "ipython3",
   "version": "3.5.2"
  }
 },
 "nbformat": 4,
 "nbformat_minor": 2
}
